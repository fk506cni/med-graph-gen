{
 "cells": [
  {
   "cell_type": "code",
   "execution_count": 1,
   "id": "912b1342-4c4a-464d-be21-7e90a0e42bb8",
   "metadata": {
    "tags": []
   },
   "outputs": [
    {
     "name": "stdout",
     "output_type": "stream",
     "text": [
      "CONTAINER ID   IMAGE          COMMAND                  CREATED       STATUS       PORTS     NAMES\n",
      "39132b150b13   b2cb26522a92   \"python -u src/main.…\"   4 hours ago   Up 4 hours             gallant_thompson\n"
     ]
    }
   ],
   "source": [
    "!docker ps"
   ]
  },
  {
   "cell_type": "code",
   "execution_count": 2,
   "id": "2543aeef-1c5e-4877-b26e-6fce25c985f4",
   "metadata": {
    "tags": []
   },
   "outputs": [
    {
     "name": "stdout",
     "output_type": "stream",
     "text": [
      "docker: open .env: no such file or directory.\n",
      "See 'docker run --help'.\n"
     ]
    }
   ],
   "source": [
    "!docker run --rm --env-file .env \\\n",
    " -v \"$(pwd)/output:/app/output\" \\\n",
    " -v \"$(pwd)/paragraph_cleaning_prompt.md:/app/paragraph_cleaning_prompt.md\" \\\n",
    " -v \"$(pwd)/entity_extraction_prompt.md:/app/entity_extraction_prompt.md\" \\\n",
    " -v \"$(pwd)/relation_extraction_batch_prompt.md:/app/relation_extraction_batch_prompt.md\" \\\n",
    " -v \"$(pwd)/entity_normalization_prompt.md:/app/entity_normalization_prompt.md\" \\\n",
    " knowledge-graph-builder python -u src/main.py --wait 15\n"
   ]
  }
 ],
 "metadata": {
  "kernelspec": {
   "display_name": "Python 3 (ipykernel)",
   "language": "python",
   "name": "python3"
  },
  "language_info": {
   "codemirror_mode": {
    "name": "ipython",
    "version": 3
   },
   "file_extension": ".py",
   "mimetype": "text/x-python",
   "name": "python",
   "nbconvert_exporter": "python",
   "pygments_lexer": "ipython3",
   "version": "3.10.11"
  }
 },
 "nbformat": 4,
 "nbformat_minor": 5
}
