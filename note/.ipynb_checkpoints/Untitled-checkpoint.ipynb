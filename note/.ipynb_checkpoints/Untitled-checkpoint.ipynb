{
 "cells": [
  {
   "cell_type": "code",
   "execution_count": 1,
   "id": "912b1342-4c4a-464d-be21-7e90a0e42bb8",
   "metadata": {
    "tags": []
   },
   "outputs": [
    {
     "name": "stdout",
     "output_type": "stream",
     "text": [
      "\n",
      "Usage:  docker [OPTIONS] COMMAND\n",
      "\n",
      "A self-sufficient runtime for containers\n",
      "\n",
      "Common Commands:\n",
      "  run         Create and run a new container from an image\n",
      "  exec        Execute a command in a running container\n",
      "  ps          List containers\n",
      "  build       Build an image from a Dockerfile\n",
      "  pull        Download an image from a registry\n",
      "  push        Upload an image to a registry\n",
      "  images      List images\n",
      "  login       Log in to a registry\n",
      "  logout      Log out from a registry\n",
      "  search      Search Docker Hub for images\n",
      "  version     Show the Docker version information\n",
      "  info        Display system-wide information\n",
      "\n",
      "Management Commands:\n",
      "  ai*         Docker AI Agent - Ask Gordon (Docker Inc., v1.6.0)\n",
      "  builder     Manage builds\n",
      "  buildx*     Docker Buildx (Docker Inc., v0.25.0-desktop.1)\n",
      "  cloud*      Docker Cloud (Docker Inc., v0.4.2)\n",
      "  compose*    Docker Compose (Docker Inc., v2.38.2-desktop.1)\n",
      "  container   Manage containers\n",
      "  context     Manage contexts\n",
      "  debug*      Get a shell into any image or container (Docker Inc., 0.0.41)\n",
      "  desktop*    Docker Desktop commands (Docker Inc., v0.1.11)\n",
      "  extension*  Manages Docker extensions (Docker Inc., v0.2.29)\n",
      "  image       Manage images\n",
      "  init*       Creates Docker-related starter files for your project (Docker Inc., v1.4.0)\n",
      "  manifest    Manage Docker image manifests and manifest lists\n",
      "  mcp*        Docker MCP Plugin (Docker Inc., v0.9.9)\n",
      "  model*      Docker Model Runner (EXPERIMENTAL) (Docker Inc., v0.1.33)\n",
      "  network     Manage networks\n",
      "  plugin      Manage plugins\n",
      "  sbom*       View the packaged-based Software Bill Of Materials (SBOM) for an image (Anchore Inc., 0.6.0)\n",
      "  scan*       Docker Scan (Docker Inc., v0.23.0)\n",
      "  scout*      Docker Scout (Docker Inc., v1.18.1)\n",
      "  system      Manage Docker\n",
      "  trust       Manage trust on Docker images\n",
      "  volume      Manage volumes\n",
      "\n",
      "Swarm Commands:\n",
      "  swarm       Manage Swarm\n",
      "\n",
      "Commands:\n",
      "  attach      Attach local standard input, output, and error streams to a running container\n",
      "  commit      Create a new image from a container's changes\n",
      "  cp          Copy files/folders between a container and the local filesystem\n",
      "  create      Create a new container\n",
      "  diff        Inspect changes to files or directories on a container's filesystem\n",
      "  events      Get real time events from the server\n",
      "  export      Export a container's filesystem as a tar archive\n",
      "  history     Show the history of an image\n",
      "  import      Import the contents from a tarball to create a filesystem image\n",
      "  inspect     Return low-level information on Docker objects\n",
      "  kill        Kill one or more running containers\n",
      "  load        Load an image from a tar archive or STDIN\n",
      "  logs        Fetch the logs of a container\n",
      "  pause       Pause all processes within one or more containers\n",
      "  port        List port mappings or a specific mapping for the container\n",
      "  rename      Rename a container\n",
      "  restart     Restart one or more containers\n",
      "  rm          Remove one or more containers\n",
      "  rmi         Remove one or more images\n",
      "  save        Save one or more images to a tar archive (streamed to STDOUT by default)\n",
      "  start       Start one or more stopped containers\n",
      "  stats       Display a live stream of container(s) resource usage statistics\n",
      "  stop        Stop one or more running containers\n",
      "  tag         Create a tag TARGET_IMAGE that refers to SOURCE_IMAGE\n",
      "  top         Display the running processes of a container\n",
      "  unpause     Unpause all processes within one or more containers\n",
      "  update      Update configuration of one or more containers\n",
      "  wait        Block until one or more containers stop, then print their exit codes\n",
      "\n",
      "Global Options:\n",
      "      --config string      Location of client config files (default\n",
      "                           \"/home/dryad/.docker\")\n",
      "  -c, --context string     Name of the context to use to connect to the\n",
      "                           daemon (overrides DOCKER_HOST env var and\n",
      "                           default context set with \"docker context use\")\n",
      "  -D, --debug              Enable debug mode\n",
      "  -H, --host list          Daemon socket(s) to connect to\n",
      "  -l, --log-level string   Set the logging level (\"debug\", \"info\",\n",
      "                           \"warn\", \"error\", \"fatal\") (default \"info\")\n",
      "      --tls                Use TLS; implied by --tlsverify\n",
      "      --tlscacert string   Trust certs signed only by this CA (default\n",
      "                           \"/home/dryad/.docker/ca.pem\")\n",
      "      --tlscert string     Path to TLS certificate file (default\n",
      "                           \"/home/dryad/.docker/cert.pem\")\n",
      "      --tlskey string      Path to TLS key file (default\n",
      "                           \"/home/dryad/.docker/key.pem\")\n",
      "      --tlsverify          Use TLS and verify the remote\n",
      "  -v, --version            Print version information and quit\n",
      "\n",
      "Run 'docker COMMAND --help' for more information on a command.\n",
      "\n",
      "For more help on how to use Docker, head to https://docs.docker.com/go/guides/\n"
     ]
    }
   ],
   "source": [
    "!docker"
   ]
  },
  {
   "cell_type": "code",
   "execution_count": 2,
   "id": "2543aeef-1c5e-4877-b26e-6fce25c985f4",
   "metadata": {
    "tags": []
   },
   "outputs": [
    {
     "name": "stdout",
     "output_type": "stream",
     "text": [
      "docker: open .env: no such file or directory.\n",
      "See 'docker run --help'.\n"
     ]
    }
   ],
   "source": [
    "!docker run --rm --env-file .env \\\n",
    " -v \"$(pwd)/output:/app/output\" \\\n",
    " -v \"$(pwd)/paragraph_cleaning_prompt.md:/app/paragraph_cleaning_prompt.md\" \\\n",
    " -v \"$(pwd)/entity_extraction_prompt.md:/app/entity_extraction_prompt.md\" \\\n",
    " -v \"$(pwd)/relation_extraction_batch_prompt.md:/app/relation_extraction_batch_prompt.md\" \\\n",
    " -v \"$(pwd)/entity_normalization_prompt.md:/app/entity_normalization_prompt.md\" \\\n",
    " knowledge-graph-builder python -u src/main.py --wait 15\n"
   ]
  }
 ],
 "metadata": {
  "kernelspec": {
   "display_name": "Python 3 (ipykernel)",
   "language": "python",
   "name": "python3"
  },
  "language_info": {
   "codemirror_mode": {
    "name": "ipython",
    "version": 3
   },
   "file_extension": ".py",
   "mimetype": "text/x-python",
   "name": "python",
   "nbconvert_exporter": "python",
   "pygments_lexer": "ipython3",
   "version": "3.10.11"
  }
 },
 "nbformat": 4,
 "nbformat_minor": 5
}
